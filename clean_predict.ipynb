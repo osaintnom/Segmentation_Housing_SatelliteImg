{
 "cells": [
  {
   "cell_type": "code",
   "execution_count": 27,
   "metadata": {},
   "outputs": [],
   "source": [
    "import glob\n",
    "from pathlib import Path\n",
    "\n",
    "import gc\n",
    "\n",
    "import os\n",
    "\n",
    "import torch\n",
    "\n",
    "from rastervision.core.data import ClassConfig\n",
    "from rastervision.core.data import SemanticSegmentationLabels, SemanticSegmentationDiscreteLabels\n",
    "from rastervision.core.data import RasterioSource, MinMaxTransformer\n",
    "from rastervision.core.data.label_store.semantic_segmentation_label_store_config import PolygonVectorOutputConfig\n",
    "\n",
    "from rastervision.pytorch_learner import SemanticSegmentationLearner\n",
    "from rastervision.pytorch_learner import SolverConfig\n",
    "from rastervision.pytorch_learner import SemanticSegmentationLearnerConfig\n",
    "from rastervision.pytorch_learner import SemanticSegmentationSlidingWindowGeoDataset\n",
    "from rastervision.pytorch_learner import SemanticSegmentationGeoDataConfig"
   ]
  },
  {
   "cell_type": "code",
   "execution_count": 28,
   "metadata": {},
   "outputs": [],
   "source": [
    "# cantidad de iteraciones qeu fueron hechas en train\n",
    "n_epochs = 100"
   ]
  },
  {
   "cell_type": "code",
   "execution_count": 29,
   "metadata": {},
   "outputs": [],
   "source": [
    "# import gdown\n",
    "\n",
    "# model_folder = \"/content/drive/MyDrive/IA/basurales/modelo_pre_entrenado/\"\n",
    "model_folder = \"./data/models/\"\n",
    "# !mkdir -p $model_folder\n",
    "# model_url = \"https://drive.google.com/file/d/1DdjZBPrMNsCp35tZSk7u-EgnIYe0wDu9/view?usp=sharing\"\n",
    "model_path = f\"./data/models/bundle_{n_epochs}/model-bundle.zip\"\n",
    "\n",
    "# gdown.download(model_url, model_path, fuzzy=True)"
   ]
  },
  {
   "cell_type": "code",
   "execution_count": 30,
   "metadata": {},
   "outputs": [
    {
     "name": "stderr",
     "output_type": "stream",
     "text": [
      "Using cache found in C:\\Users\\oltie/.cache\\torch\\hub\\AdeelH_pytorch-fpn_0.3\n",
      "2024-10-09 11:24:56:rastervision.pytorch_learner.learner: INFO - Loading learner from bundle ./data/models/bundle_100/model-bundle.zip.\n",
      "2024-10-09 11:24:56:rastervision.pytorch_learner.learner: INFO - Unzipping model-bundle to C:\\Users\\oltie\\AppData\\Local\\Temp\\tmpypc17zu1\\model-bundle\n",
      "2024-10-09 11:24:57:rastervision.pytorch_learner.learner: INFO - Loading model weights from: C:\\Users\\oltie\\AppData\\Local\\Temp\\tmpypc17zu1\\model-bundle\\model.pth\n"
     ]
    }
   ],
   "source": [
    "class_config = ClassConfig(\n",
    "    names=['background', 'viviendas precarias'],\n",
    "    colors=['lightgray', 'darkred'],\n",
    "    null_class='background')\n",
    "class_config.ensure_null_class()\n",
    "\n",
    "\n",
    "window_size = 64\n",
    "\n",
    "model = torch.hub.load(\n",
    "    'AdeelH/pytorch-fpn:0.3',\n",
    "    'make_fpn_resnet',\n",
    "    name='resnet18',\n",
    "    fpn_type='panoptic',\n",
    "    num_classes=len(class_config),\n",
    "    fpn_channels=128,\n",
    "    in_channels=3,\n",
    "    out_size=(window_size, window_size),\n",
    "    pretrained=True)\n",
    "\n",
    "\n",
    "learner = SemanticSegmentationLearner.from_model_bundle(model_bundle_uri=model_path, model=model, output_dir=model_folder, training=False)"
   ]
  },
  {
   "cell_type": "code",
   "execution_count": 31,
   "metadata": {},
   "outputs": [],
   "source": [
    "test_images_uri =\"./data/test/img/2021.tif\"\n",
    "test_labels_uri = \"./data/test/labels/barrios_3dfeb_lamtz.geojson\"\n",
    "AoI_file_dest_uri = \"./data/aoi/AoI_3dfeb_LaMtz.geojson\""
   ]
  },
  {
   "cell_type": "code",
   "execution_count": 32,
   "metadata": {},
   "outputs": [
    {
     "name": "stderr",
     "output_type": "stream",
     "text": [
      "Predicting: 100%|██████████| 754/754 [00:06<00:00, 118.35it/s]\n",
      "2024-10-09 11:25:06:rastervision.core.data.label_store.semantic_segmentation_label_store: INFO - Writing vector outputs to disk.\n",
      "Vectorizing predictions: 100%|██████████| 1/1 [00:04<00:00,  4.91s/it, class_id=1, denoise=8, threshold=None, type_hint=polygon_vector_output]\n"
     ]
    }
   ],
   "source": [
    "window_size = 64\n",
    "save_dir = f\"./data/results/preds_{n_epochs}/\"\n",
    "\n",
    "img_raster_source = RasterioSource(test_images_uri, allow_streaming=True, raster_transformers=[MinMaxTransformer()])\n",
    "\n",
    "pred_ds = SemanticSegmentationSlidingWindowGeoDataset.from_uris(\n",
    "    class_config=class_config,\n",
    "    image_uri=test_images_uri,\n",
    "    image_raster_source_kw=dict(allow_streaming=True),\n",
    "    aoi_uri=AoI_file_dest_uri,\n",
    "    size=window_size,\n",
    "    stride=window_size)\n",
    "\n",
    "predictions = learner.predict_dataset(\n",
    "    pred_ds,\n",
    "    raw_out=True,\n",
    "    numpy_out=True,\n",
    "    predict_kw=dict(out_shape=(window_size, window_size)),\n",
    "    progress_bar=True)\n",
    "\n",
    "pred_labels = SemanticSegmentationLabels.from_predictions(\n",
    "    pred_ds.windows,\n",
    "    predictions,\n",
    "    smooth=True,\n",
    "    extent=pred_ds.scene.extent,\n",
    "    num_classes=len(class_config))\n",
    "\n",
    "# # liberamos memoria\n",
    "# del pred_ds\n",
    "# gc.collect()\n",
    "\n",
    "# Guardar predicciones\n",
    "pred_labels.save(\n",
    "    uri=save_dir,\n",
    "    crs_transformer=img_raster_source.crs_transformer,\n",
    "    class_config=class_config,\n",
    "    # set to False to skip writing `labels.tif`\n",
    "    discrete_output=False,\n",
    "    # set to False to skip writing `scores.tif`\n",
    "    smooth_output=False,\n",
    "    # set to True to quantize floating point score values to uint8 in scores.tif to reduce file size\n",
    "    smooth_as_uint8=True,\n",
    "    # vector outputs are now always written to <pred root URI>/vector_outputs/class-<i>-<class name>.json\n",
    "    vector_outputs=[PolygonVectorOutputConfig(class_id=1)]\n",
    ")\n",
    "\n",
    "# # renombramos el archivo con la predicción\n",
    "# !mv {save_dir + \"vector_output/class-1-basural.json\"} {save_dir + \"vector_output/\" + Path(raster_file).stem + \"_prediction.json\"}\n",
    "\n",
    "# # limpieza final\n",
    "# del predictions\n",
    "# del pred_labels\n",
    "# gc.collect()"
   ]
  },
  {
   "cell_type": "code",
   "execution_count": 33,
   "metadata": {},
   "outputs": [],
   "source": [
    "scores = pred_labels.get_score_arr(pred_labels.extent)"
   ]
  },
  {
   "cell_type": "code",
   "execution_count": 34,
   "metadata": {},
   "outputs": [
    {
     "data": {
      "image/png": "[encoded data removed]",
      "text/plain": [
       "<Figure size 1000x500 with 2 Axes>"
      ]
     },
     "metadata": {},
     "output_type": "display_data"
    }
   ],
   "source": [
    "from matplotlib import pyplot as plt\n",
    "\n",
    "scores_vivienda = scores[1]\n",
    "scores_background = scores[0]\n",
    "\n",
    "fig, (ax1, ax2) = plt.subplots(1, 2, figsize=(10, 5))\n",
    "fig.tight_layout(w_pad=-2)\n",
    "ax1.imshow(scores_background, cmap='plasma')\n",
    "ax1.axis('off')\n",
    "ax1.set_title('background')\n",
    "ax2.imshow(scores_vivienda, cmap='plasma')\n",
    "ax2.axis('off')\n",
    "ax2.set_title('viviendas precarias')\n",
    "plt.show()"
   ]
  },
  {
   "cell_type": "code",
   "execution_count": 35,
   "metadata": {},
   "outputs": [
    {
     "name": "stderr",
     "output_type": "stream",
     "text": [
      "Saving pixel labels: 100%|██████████| 20/20 [00:04<00:00,  4.66it/s]\n",
      "Saving pixel scores: 100%|██████████| 20/20 [00:04<00:00,  4.45it/s]\n",
      "2024-10-09 11:25:35:rastervision.core.data.label_store.semantic_segmentation_label_store: INFO - Writing vector outputs to disk.\n",
      "Vectorizing predictions: 100%|██████████| 1/1 [00:04<00:00,  4.52s/it, class_id=1, denoise=8, threshold=None, type_hint=polygon_vector_output]\n"
     ]
    }
   ],
   "source": [
    "pred_labels.save(\n",
    "    uri=save_dir,\n",
    "    crs_transformer=img_raster_source.crs_transformer,\n",
    "    class_config=class_config,\n",
    "    # discrete_output=False,\n",
    "    # smooth_output=False,\n",
    "    smooth_as_uint8=True,\n",
    "    vector_outputs=[PolygonVectorOutputConfig(class_id=1)]\n",
    ")"
   ]
  },
  {
   "cell_type": "code",
   "execution_count": 36,
   "metadata": {},
   "outputs": [],
   "source": [
    "from rastervision.core.data.utils import make_ss_scene\n",
    "\n",
    "scene = make_ss_scene(\n",
    "    class_config=class_config,\n",
    "    image_uri=test_images_uri,\n",
    "    label_vector_uri=test_labels_uri,\n",
    "    label_vector_default_class_id=class_config.get_class_id('viviendas precarias'),\n",
    "    label_raster_source_kw=dict(\n",
    "        background_class_id=class_config.get_class_id('background')),\n",
    "    image_raster_source_kw=dict(allow_streaming=True))\n",
    "\n",
    "gt_labels = scene.label_source.get_labels()"
   ]
  },
  {
   "cell_type": "code",
   "execution_count": 37,
   "metadata": {},
   "outputs": [
    {
     "name": "stderr",
     "output_type": "stream",
     "text": [
      "Computing metrics: 100%|██████████| 1/1 [00:33<00:00, 33.61s/it]\n"
     ]
    }
   ],
   "source": [
    "from rastervision.core.evaluation import SemanticSegmentationEvaluator\n",
    "\n",
    "evaluator = SemanticSegmentationEvaluator(class_config)\n",
    "\n",
    "evaluation = evaluator.evaluate_predictions(\n",
    "    ground_truth=gt_labels, predictions=pred_labels)"
   ]
  },
  {
   "cell_type": "code",
   "execution_count": 38,
   "metadata": {},
   "outputs": [
    {
     "data": {
      "text/plain": [
       "{'class_id': 0,\n",
       " 'class_name': 'background',\n",
       " 'conf_mat': [[527.0, 291834.0], [0.0, 122538759.0]],\n",
       " 'conf_mat_dict': {'FN': 0.0, 'FP': 291834.0, 'TN': 527.0, 'TP': 122538759.0},\n",
       " 'conf_mat_frac': [[4.290443659554679e-06, 0.0023758962712381033],\n",
       "                   [0.0, 0.9976198132851023]],\n",
       " 'conf_mat_frac_dict': {'FN': 0.0,\n",
       "                        'FP': 0.0023758962712381033,\n",
       "                        'TN': 4.290443659554679e-06,\n",
       "                        'TP': 0.9976198132851023},\n",
       " 'count_error': 291834.0,\n",
       " 'gt_count': 122538759.0,\n",
       " 'metrics': {'f1': 0.9988106338561794,\n",
       "             'precision': 0.9976240935350691,\n",
       "             'recall': 1.0,\n",
       "             'sensitivity': 1.0,\n",
       "             'specificity': 0.001802566005725798},\n",
       " 'pred_count': 122830593.0,\n",
       " 'relative_frequency': 0.9976198132851023}"
      ]
     },
     "execution_count": 38,
     "metadata": {},
     "output_type": "execute_result"
    }
   ],
   "source": [
    "evaluation.class_to_eval_item[0]"
   ]
  },
  {
   "cell_type": "code",
   "execution_count": 39,
   "metadata": {},
   "outputs": [
    {
     "data": {
      "text/plain": [
       "{'class_id': 1,\n",
       " 'class_name': 'viviendas precarias',\n",
       " 'conf_mat': [[122538759.0, 0.0], [291834.0, 527.0]],\n",
       " 'conf_mat_dict': {'FN': 291834.0, 'FP': 0.0, 'TN': 122538759.0, 'TP': 527.0},\n",
       " 'conf_mat_frac': [[0.9976198132851023, 0.0],\n",
       "                   [0.0023758962712381033, 4.290443659554679e-06]],\n",
       " 'conf_mat_frac_dict': {'FN': 0.0023758962712381033,\n",
       "                        'FP': 0.0,\n",
       "                        'TN': 0.9976198132851023,\n",
       "                        'TP': 4.290443659554679e-06},\n",
       " 'count_error': 291834.0,\n",
       " 'gt_count': 292361.0,\n",
       " 'metrics': {'f1': 0.003598645215918713,\n",
       "             'precision': 1.0,\n",
       "             'recall': 0.001802566005725798,\n",
       "             'sensitivity': 0.001802566005725798,\n",
       "             'specificity': 1.0},\n",
       " 'pred_count': 527.0,\n",
       " 'relative_frequency': 0.002380186714897658}"
      ]
     },
     "execution_count": 39,
     "metadata": {},
     "output_type": "execute_result"
    }
   ],
   "source": [
    "evaluation.class_to_eval_item[1]"
   ]
  },
  {
   "cell_type": "code",
   "execution_count": 40,
   "metadata": {},
   "outputs": [],
   "source": [
    "evaluation.save(f'data/results/eval_{n_epochs}.json')"
   ]
  },
  {
   "cell_type": "markdown",
   "metadata": {},
   "source": [
    "### BASURALES_____________________________________________________________________________________________________________"
   ]
  },
  {
   "cell_type": "code",
   "execution_count": null,
   "metadata": {},
   "outputs": [],
   "source": [
    "#def generate_prediction_polygons(raster_file, aoi_uri, class_config, learner, save_dir):\n",
    "def generate_prediction_polygons(raster_file, class_config, learner, save_dir):\n",
    "\n",
    "    print(f'Processing {raster_file}...')\n",
    "\n",
    "    img_raster_source = RasterioSource(raster_file, allow_streaming=True, raster_transformers=[MinMaxTransformer()])\n",
    "\n",
    "    pred_ds = SemanticSegmentationSlidingWindowGeoDataset.from_uris(\n",
    "        class_config=class_config,\n",
    "        image_uri=raster_file,\n",
    "        image_raster_source_kw=dict(allow_streaming=True),\n",
    "        #aoi_uri=aoi_uri,\n",
    "        size=window_size,\n",
    "        stride=window_size)\n",
    "\n",
    "    predictions = learner.predict_dataset(\n",
    "        pred_ds,\n",
    "        raw_out=True,\n",
    "        numpy_out=True,\n",
    "        predict_kw=dict(out_shape=(window_size, window_size)),\n",
    "        progress_bar=True)\n",
    "\n",
    "    pred_labels = SemanticSegmentationLabels.from_predictions(\n",
    "        pred_ds.windows,\n",
    "        predictions,\n",
    "        smooth=True,\n",
    "        extent=pred_ds.scene.extent,\n",
    "        num_classes=len(class_config))\n",
    "\n",
    "    # liberamos memoria\n",
    "    del pred_ds\n",
    "    gc.collect()\n",
    "\n",
    "    # Guardar predicciones\n",
    "    pred_labels.save(\n",
    "        uri=save_dir,\n",
    "        crs_transformer=img_raster_source.crs_transformer,\n",
    "        class_config=class_config,\n",
    "        # set to False to skip writing `labels.tif`\n",
    "        discrete_output=False,\n",
    "        # set to False to skip writing `scores.tif`\n",
    "        smooth_output=False,\n",
    "        # set to True to quantize floating point score values to uint8 in scores.tif to reduce file size\n",
    "        smooth_as_uint8=True,\n",
    "        # vector outputs are now always written to <pred root URI>/vector_outputs/class-<i>-<class name>.json\n",
    "        vector_outputs=[PolygonVectorOutputConfig(class_id=1)]\n",
    "    )\n",
    "\n",
    "    # renombramos el archivo con la predicción\n",
    "    !mv {save_dir + \"vector_output/class-1-basural.json\"} {save_dir + \"vector_output/\" + Path(raster_file).stem + \"_prediction.json\"}\n",
    "\n",
    "    # limpieza final\n",
    "    del predictions\n",
    "    del pred_labels\n",
    "    gc.collect()\n",
    "\n",
    "    print(f'Done: {raster_file}\\n'\n",
    "    )"
   ]
  },
  {
   "cell_type": "code",
   "execution_count": null,
   "metadata": {},
   "outputs": [],
   "source": [
    "save_dir = \"/tmp/predicciones/\"\n",
    "!mkdir -p $save_dir\n",
    "\n",
    "#aoi_uri = AoI_file_dest\n",
    "\n",
    "for raster_file in raster_files:\n",
    "    #generate_prediction_polygons(raster_file, aoi_uri, class_config, learner, save_dir)\n",
    "    generate_prediction_polygons(raster_file, class_config, learner, save_dir)"
   ]
  },
  {
   "cell_type": "code",
   "execution_count": null,
   "metadata": {},
   "outputs": [],
   "source": [
    "predictions_dest = \"/content/drive/MyDrive/IA/basurales/predicciones/\"\n",
    "!mkdir -p $predictions_dest\n",
    "\n",
    "import geopandas as gpd\n",
    "\n",
    "partial_results = glob.glob(save_dir + \"vector_output/*.json\")\n",
    "\n",
    "results = gpd.GeoDataFrame()\n",
    "\n",
    "for file in partial_results:\n",
    "    results = gpd.GeoDataFrame(gpd.pd.concat([results, gpd.read_file(file)]))\n",
    "\n",
    "results.to_file(predictions_dest + \"predicciones.geojson\", driver=\"GeoJSON\")"
   ]
  },
  {
   "cell_type": "code",
   "execution_count": null,
   "metadata": {},
   "outputs": [],
   "source": [
    "!ls {predictions_dest + \"predicciones.geojson\"}"
   ]
  }
 ],
 "metadata": {
  "kernelspec": {
   "display_name": "ssmodel_env",
   "language": "python",
   "name": "python3"
  },
  "language_info": {
   "codemirror_mode": {
    "name": "ipython",
    "version": 3
   },
   "file_extension": ".py",
   "mimetype": "text/x-python",
   "name": "python",
   "nbconvert_exporter": "python",
   "pygments_lexer": "ipython3",
   "version": "3.12.7"
  }
 },
 "nbformat": 4,
 "nbformat_minor": 2
}
